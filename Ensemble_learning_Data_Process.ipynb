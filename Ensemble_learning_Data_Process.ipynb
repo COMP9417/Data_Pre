{
  "nbformat": 4,
  "nbformat_minor": 0,
  "metadata": {
    "colab": {
      "provenance": [],
      "machine_shape": "hm"
    },
    "kernelspec": {
      "name": "python3",
      "display_name": "Python 3"
    },
    "language_info": {
      "name": "python"
    },
    "gpuClass": "standard"
  },
  "cells": [
    {
      "cell_type": "code",
      "source": [
        "import pandas as pd"
      ],
      "metadata": {
        "id": "r-VCkJf4n-qF"
      },
      "execution_count": 1,
      "outputs": []
    },
    {
      "cell_type": "code",
      "execution_count": 2,
      "metadata": {
        "id": "sdDwGZ-3mq2i"
      },
      "outputs": [],
      "source": [
        "# Load and merge datasets based on foreign keys\n",
        "train_raw = pd.read_csv('/content/drive/MyDrive/Energy Predictor/train.csv')\n",
        "test_raw = pd.read_csv('/content/drive/MyDrive/Energy Predictor/test.csv')\n",
        "building_meta = pd.read_csv('/content/drive/MyDrive/Energy Predictor/building_metadata.csv')\n",
        "weather_train = pd.read_csv('/content/drive/MyDrive/Energy Predictor/weather_train.csv')\n",
        "weather_test = pd.read_csv('/content/drive/MyDrive/Energy Predictor/weather_test.csv')"
      ]
    },
    {
      "cell_type": "code",
      "source": [
        "primary_use_categories = building_meta['primary_use'].unique()\n",
        "p_u_code = []\n",
        "for c in enumerate(primary_use_categories):\n",
        "  p_u_code.append([c[0],c[1]])\n",
        "p_u_df = pd.DataFrame(p_u_code, columns=['primary_use_code', 'primary_use'])"
      ],
      "metadata": {
        "id": "OxQi_xsQcjto"
      },
      "execution_count": 3,
      "outputs": []
    },
    {
      "cell_type": "code",
      "source": [
        "def convert_timestamp(df):\n",
        "  df['year'] = pd.to_datetime(df['timestamp']).dt.year\n",
        "  df['month'] = pd.to_datetime(df['timestamp']).dt.month\n",
        "  df['day'] = pd.to_datetime(df['timestamp']).dt.day\n",
        "  df['hour'] = pd.to_datetime(df['timestamp']).dt.hour\n",
        "\n",
        "  return df"
      ],
      "metadata": {
        "id": "plsH8Nil-JX6"
      },
      "execution_count": 4,
      "outputs": []
    },
    {
      "cell_type": "code",
      "source": [
        "train_raw = convert_timestamp(train_raw)\n",
        "train = pd.merge(train_raw, building_meta, on='building_id', how='left')\n",
        "train = pd.merge(train, p_u_df, on='primary_use', how='left')\n",
        "train = pd.merge(train, weather_train, on=['site_id','timestamp'], how='left')\n",
        "train = train.drop(['building_id','timestamp','site_id','primary_use'], axis=1)"
      ],
      "metadata": {
        "id": "5wAxLMei7VC2"
      },
      "execution_count": 5,
      "outputs": []
    },
    {
      "cell_type": "code",
      "source": [
        "# import numpy as np\n",
        "\n",
        "# df = train.replace(r'^\\s*$', np.nan, regex=True)\n",
        "# for col in df:\n",
        "#     empty_rate = round(df[col].isna().mean()*100, 1)\n",
        "#     print(col, empty_rate)\n",
        "\n",
        "# The top 3 empty rate are: floor_count(82.7%), year_built(60.0%), and cloud_coverage(43.7%)\n",
        "# Empty rate of other features were less than 20%\n",
        "# Thus, these 3 features are droped\n",
        "\n",
        "train = train.drop(['floor_count','year_built','cloud_coverage'], axis=1)\n",
        "\n",
        "train.info()"
      ],
      "metadata": {
        "colab": {
          "base_uri": "https://localhost:8080/"
        },
        "id": "3xNGrOxkGimG",
        "outputId": "e00f7c5e-910f-4f64-d3b8-f4568efb346e"
      },
      "execution_count": 7,
      "outputs": [
        {
          "output_type": "stream",
          "name": "stdout",
          "text": [
            "<class 'pandas.core.frame.DataFrame'>\n",
            "Int64Index: 20216100 entries, 0 to 20216099\n",
            "Data columns (total 14 columns):\n",
            " #   Column              Dtype  \n",
            "---  ------              -----  \n",
            " 0   meter               int64  \n",
            " 1   meter_reading       float64\n",
            " 2   year                int64  \n",
            " 3   month               int64  \n",
            " 4   day                 int64  \n",
            " 5   hour                int64  \n",
            " 6   square_feet         int64  \n",
            " 7   primary_use_code    int64  \n",
            " 8   air_temperature     float64\n",
            " 9   dew_temperature     float64\n",
            " 10  precip_depth_1_hr   float64\n",
            " 11  sea_level_pressure  float64\n",
            " 12  wind_direction      float64\n",
            " 13  wind_speed          float64\n",
            "dtypes: float64(7), int64(7)\n",
            "memory usage: 2.3 GB\n"
          ]
        }
      ]
    },
    {
      "cell_type": "code",
      "source": [
        "# import seaborn as sns\n",
        "# import pandas as pd\n",
        "# from matplotlib import pyplot as plt\n",
        "\n",
        "# train_new = pd.read_csv('/content/drive/MyDrive/Energy Predictor/train_new.csv')\n",
        "# corr = train_new.corr()\n",
        "# plt.figure(figsize=(20,10))\n",
        "# sns.heatmap(corr, cmap=\"Greens\",annot=True)\n",
        "# plt.show()\n",
        "\n",
        "# According to the correlation, 'year','month','day','hour','precip_depth_1_hr','wind_direction' were removed due to the low correclation\n",
        "train = train.drop(['year','day', 'hour', 'precip_depth_1_hr', 'wind_direction'], axis=1)\n",
        "\n",
        "train.info()"
      ],
      "metadata": {
        "colab": {
          "base_uri": "https://localhost:8080/"
        },
        "id": "E_n6j5w1LSLH",
        "outputId": "d1cd3916-3cba-4e52-b992-b33f25298a50"
      },
      "execution_count": 8,
      "outputs": [
        {
          "output_type": "stream",
          "name": "stdout",
          "text": [
            "<class 'pandas.core.frame.DataFrame'>\n",
            "Int64Index: 20216100 entries, 0 to 20216099\n",
            "Data columns (total 9 columns):\n",
            " #   Column              Dtype  \n",
            "---  ------              -----  \n",
            " 0   meter               int64  \n",
            " 1   meter_reading       float64\n",
            " 2   month               int64  \n",
            " 3   square_feet         int64  \n",
            " 4   primary_use_code    int64  \n",
            " 5   air_temperature     float64\n",
            " 6   dew_temperature     float64\n",
            " 7   sea_level_pressure  float64\n",
            " 8   wind_speed          float64\n",
            "dtypes: float64(5), int64(4)\n",
            "memory usage: 1.5 GB\n"
          ]
        }
      ]
    },
    {
      "cell_type": "code",
      "source": [
        "train.to_csv('/content/drive/MyDrive/Energy Predictor/train_new.csv', index=False)"
      ],
      "metadata": {
        "id": "a5ec6s9NKg6D"
      },
      "execution_count": 9,
      "outputs": []
    },
    {
      "cell_type": "code",
      "source": [
        "test_raw = convert_timestamp(test_raw)\n",
        "test = pd.merge(test_raw, building_meta, on='building_id', how='left')\n",
        "test = pd.merge(test, p_u_df, on='primary_use', how='left')\n",
        "test = pd.merge(test, weather_test, on=['site_id','timestamp'], how='left')\n",
        "test = test.drop(['building_id','timestamp','site_id','primary_use'], axis=1)\n",
        "test = test.drop(['floor_count','year_built','cloud_coverage'], axis=1)\n",
        "test = test.drop(['year','day', 'hour', 'precip_depth_1_hr', 'wind_direction'], axis=1)\n",
        "test.info()"
      ],
      "metadata": {
        "colab": {
          "base_uri": "https://localhost:8080/"
        },
        "id": "gA2hMvlzP1Tu",
        "outputId": "d8f3585f-d89a-47be-86d6-ecdda7d2fa2f"
      },
      "execution_count": 10,
      "outputs": [
        {
          "output_type": "stream",
          "name": "stdout",
          "text": [
            "<class 'pandas.core.frame.DataFrame'>\n",
            "Int64Index: 41697600 entries, 0 to 41697599\n",
            "Data columns (total 9 columns):\n",
            " #   Column              Dtype  \n",
            "---  ------              -----  \n",
            " 0   row_id              int64  \n",
            " 1   meter               int64  \n",
            " 2   month               int64  \n",
            " 3   square_feet         int64  \n",
            " 4   primary_use_code    int64  \n",
            " 5   air_temperature     float64\n",
            " 6   dew_temperature     float64\n",
            " 7   sea_level_pressure  float64\n",
            " 8   wind_speed          float64\n",
            "dtypes: float64(4), int64(5)\n",
            "memory usage: 3.1 GB\n"
          ]
        }
      ]
    },
    {
      "cell_type": "code",
      "source": [
        "test.to_csv('/content/drive/MyDrive/Energy Predictor/test_new.csv', index=False)"
      ],
      "metadata": {
        "id": "tYN-39scgN8Y"
      },
      "execution_count": 11,
      "outputs": []
    }
  ]
}